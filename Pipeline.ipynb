{
  "cells": [
    {
      "cell_type": "code",
      "execution_count": null,
      "metadata": {
        "colab": {
          "base_uri": "https://localhost:8080/"
        },
        "id": "_FUWrSgzc9DE",
        "outputId": "c5731dac-5c50-4927-e38e-62299bdf68c7"
      },
      "outputs": [
        {
          "output_type": "stream",
          "name": "stdout",
          "text": [
            "Mounted at /content/gdrive\n"
          ]
        }
      ],
      "source": [
        "# Mount Drive using this statement\n",
        "from google.colab import drive\n",
        "drive.mount('/content/gdrive',force_remount=True)"
      ]
    },
    {
      "cell_type": "code",
      "source": [
        "%cd /content/gdrive/MyDrive"
      ],
      "metadata": {
        "colab": {
          "base_uri": "https://localhost:8080/"
        },
        "id": "mZFta5K6ix3t",
        "outputId": "13e241f0-ca75-4cec-fcaf-6e71ef3ec2c3"
      },
      "execution_count": null,
      "outputs": [
        {
          "output_type": "stream",
          "name": "stdout",
          "text": [
            "/content/gdrive/MyDrive\n"
          ]
        }
      ]
    },
    {
      "cell_type": "code",
      "source": [
        "# create directory for cloning yolov7 \n",
        "import os\n",
        "\n",
        "if not os.path.isdir(\"MidPrepCloudPhysician\"):\n",
        "  os.makedirs(\"MidPrepCloudPhysician\")"
      ],
      "metadata": {
        "id": "ZiEeM7FajtEc"
      },
      "execution_count": null,
      "outputs": []
    },
    {
      "cell_type": "code",
      "source": [
        "# folder where yolov7 will clone\n",
        "%cd /content/gdrive/MyDrive/MidPrepCloudPhysician"
      ],
      "metadata": {
        "colab": {
          "base_uri": "https://localhost:8080/"
        },
        "id": "zu2ggi0NxJMd",
        "outputId": "9fab88d9-3a0e-4828-9f13-7c43e5285fb4"
      },
      "execution_count": null,
      "outputs": [
        {
          "output_type": "stream",
          "name": "stdout",
          "text": [
            "/content/gdrive/MyDrive/MidPrepCloudPhysician\n"
          ]
        }
      ]
    },
    {
      "cell_type": "code",
      "source": [
        "# clonning yolov7\n",
        "!git clone https://github.com/WongKinYiu/yolov7"
      ],
      "metadata": {
        "colab": {
          "base_uri": "https://localhost:8080/"
        },
        "id": "uwzw4BC7kXCH",
        "outputId": "16e85803-3c39-4335-e1d0-1cf5c0d891f8"
      },
      "execution_count": null,
      "outputs": [
        {
          "output_type": "stream",
          "name": "stdout",
          "text": [
            "Cloning into 'yolov7'...\n",
            "remote: Enumerating objects: 1127, done.\u001b[K\n",
            "remote: Total 1127 (delta 0), reused 0 (delta 0), pack-reused 1127\u001b[K\n",
            "Receiving objects: 100% (1127/1127), 69.93 MiB | 14.60 MiB/s, done.\n",
            "Resolving deltas: 100% (522/522), done.\n",
            "Updating files: 100% (104/104), done.\n"
          ]
        }
      ]
    },
    {
      "cell_type": "code",
      "source": [
        "# yolov7 folder\n",
        "%cd /content/gdrive/MyDrive/MidPrepCloudPhysician/yolov7"
      ],
      "metadata": {
        "colab": {
          "base_uri": "https://localhost:8080/"
        },
        "id": "tMPp331YxO2W",
        "outputId": "d3dbb0b4-abea-43a4-d4f0-231051595225"
      },
      "execution_count": null,
      "outputs": [
        {
          "output_type": "stream",
          "name": "stdout",
          "text": [
            "/content/gdrive/MyDrive/MidPrepCloudPhysician/yolov7\n"
          ]
        }
      ]
    },
    {
      "cell_type": "code",
      "source": [
        "!pip install gdown\n",
        "import gdown\n",
        "# Download features model weights https://drive.google.com/file/d/16GUeuwY6ezlMxXAlzwBOnVIBHLd2Vivg/view?usp=sharing\n",
        "gdown.download(\"https://drive.google.com/uc?id=16GUeuwY6ezlMxXAlzwBOnVIBHLd2Vivg&confirm=t\", \"Feature_weights.pt\", quiet=False)"
      ],
      "metadata": {
        "colab": {
          "base_uri": "https://localhost:8080/",
          "height": 313
        },
        "id": "N6pCnpM6koN3",
        "outputId": "82ce1b76-7272-48de-f9c9-a08136bae443"
      },
      "execution_count": null,
      "outputs": [
        {
          "output_type": "stream",
          "name": "stdout",
          "text": [
            "Looking in indexes: https://pypi.org/simple, https://us-python.pkg.dev/colab-wheels/public/simple/\n",
            "Requirement already satisfied: gdown in /usr/local/lib/python3.8/dist-packages (4.4.0)\n",
            "Requirement already satisfied: beautifulsoup4 in /usr/local/lib/python3.8/dist-packages (from gdown) (4.6.3)\n",
            "Requirement already satisfied: tqdm in /usr/local/lib/python3.8/dist-packages (from gdown) (4.64.1)\n",
            "Requirement already satisfied: six in /usr/local/lib/python3.8/dist-packages (from gdown) (1.15.0)\n",
            "Requirement already satisfied: filelock in /usr/local/lib/python3.8/dist-packages (from gdown) (3.9.0)\n",
            "Requirement already satisfied: requests[socks] in /usr/local/lib/python3.8/dist-packages (from gdown) (2.25.1)\n",
            "Requirement already satisfied: idna<3,>=2.5 in /usr/local/lib/python3.8/dist-packages (from requests[socks]->gdown) (2.10)\n",
            "Requirement already satisfied: certifi>=2017.4.17 in /usr/local/lib/python3.8/dist-packages (from requests[socks]->gdown) (2022.12.7)\n",
            "Requirement already satisfied: urllib3<1.27,>=1.21.1 in /usr/local/lib/python3.8/dist-packages (from requests[socks]->gdown) (1.24.3)\n",
            "Requirement already satisfied: chardet<5,>=3.0.2 in /usr/local/lib/python3.8/dist-packages (from requests[socks]->gdown) (4.0.0)\n",
            "Requirement already satisfied: PySocks!=1.5.7,>=1.5.6 in /usr/local/lib/python3.8/dist-packages (from requests[socks]->gdown) (1.7.1)\n"
          ]
        },
        {
          "output_type": "stream",
          "name": "stderr",
          "text": [
            "Downloading...\n",
            "From: https://drive.google.com/uc?id=16GUeuwY6ezlMxXAlzwBOnVIBHLd2Vivg&confirm=t\n",
            "To: /content/gdrive/MyDrive/MidPrepCloudPhysician/yolov7/Feature_weights.pt\n",
            "100%|██████████| 74.8M/74.8M [00:01<00:00, 41.6MB/s]\n"
          ]
        },
        {
          "output_type": "execute_result",
          "data": {
            "text/plain": [
              "'Feature_weights.pt'"
            ],
            "application/vnd.google.colaboratory.intrinsic+json": {
              "type": "string"
            }
          },
          "metadata": {},
          "execution_count": 7
        }
      ]
    },
    {
      "cell_type": "code",
      "source": [
        "# download monitor model weights https://drive.google.com/file/d/1qcnxbJ9h9EfKf9K6BDUZBDGCnP2VGxbA/view?usp=sharing\n",
        "gdown.download(\"https://drive.google.com/uc?id=1qcnxbJ9h9EfKf9K6BDUZBDGCnP2VGxbA&confirm=t\", \"monitor_weights.pt\", quiet=False)"
      ],
      "metadata": {
        "colab": {
          "base_uri": "https://localhost:8080/",
          "height": 105
        },
        "id": "_PmeSqTiwBWD",
        "outputId": "904d644b-15b7-4d64-b58c-88388ba8f579"
      },
      "execution_count": null,
      "outputs": [
        {
          "output_type": "stream",
          "name": "stderr",
          "text": [
            "Downloading...\n",
            "From: https://drive.google.com/uc?id=1qcnxbJ9h9EfKf9K6BDUZBDGCnP2VGxbA&confirm=t\n",
            "To: /content/gdrive/MyDrive/MidPrepCloudPhysician/yolov7/monitor_weights.pt\n",
            "100%|██████████| 74.8M/74.8M [00:01<00:00, 52.9MB/s]\n"
          ]
        },
        {
          "output_type": "execute_result",
          "data": {
            "text/plain": [
              "'monitor_weights.pt'"
            ],
            "application/vnd.google.colaboratory.intrinsic+json": {
              "type": "string"
            }
          },
          "metadata": {},
          "execution_count": 8
        }
      ]
    },
    {
      "cell_type": "code",
      "execution_count": null,
      "metadata": {
        "colab": {
          "base_uri": "https://localhost:8080/"
        },
        "id": "Hh36LFZDdKc3",
        "outputId": "d141f3d2-6490-46df-d885-398e5a9881d9"
      },
      "outputs": [
        {
          "output_type": "stream",
          "name": "stdout",
          "text": [
            "Looking in indexes: https://pypi.org/simple, https://us-python.pkg.dev/colab-wheels/public/simple/\n",
            "Collecting easyocr\n",
            "  Downloading easyocr-1.6.2-py3-none-any.whl (2.9 MB)\n",
            "\u001b[2K     \u001b[90m━━━━━━━━━━━━━━━━━━━━━━━━━━━━━━━━━━━━━━━━\u001b[0m \u001b[32m2.9/2.9 MB\u001b[0m \u001b[31m31.1 MB/s\u001b[0m eta \u001b[36m0:00:00\u001b[0m\n",
            "\u001b[?25hRequirement already satisfied: scipy in /usr/local/lib/python3.8/dist-packages (from easyocr) (1.7.3)\n",
            "Collecting python-bidi\n",
            "  Downloading python_bidi-0.4.2-py2.py3-none-any.whl (30 kB)\n",
            "Collecting pyclipper\n",
            "  Downloading pyclipper-1.3.0.post4-cp38-cp38-manylinux_2_5_x86_64.manylinux1_x86_64.whl (619 kB)\n",
            "\u001b[2K     \u001b[90m━━━━━━━━━━━━━━━━━━━━━━━━━━━━━━━━━━━━━━\u001b[0m \u001b[32m619.2/619.2 KB\u001b[0m \u001b[31m44.3 MB/s\u001b[0m eta \u001b[36m0:00:00\u001b[0m\n",
            "\u001b[?25hCollecting ninja\n",
            "  Downloading ninja-1.11.1-py2.py3-none-manylinux_2_12_x86_64.manylinux2010_x86_64.whl (145 kB)\n",
            "\u001b[2K     \u001b[90m━━━━━━━━━━━━━━━━━━━━━━━━━━━━━━━━━━━━━━\u001b[0m \u001b[32m146.0/146.0 KB\u001b[0m \u001b[31m17.6 MB/s\u001b[0m eta \u001b[36m0:00:00\u001b[0m\n",
            "\u001b[?25hRequirement already satisfied: torch in /usr/local/lib/python3.8/dist-packages (from easyocr) (1.13.1+cu116)\n",
            "Collecting opencv-python-headless<=4.5.4.60\n",
            "  Downloading opencv_python_headless-4.5.4.60-cp38-cp38-manylinux_2_17_x86_64.manylinux2014_x86_64.whl (47.6 MB)\n",
            "\u001b[2K     \u001b[90m━━━━━━━━━━━━━━━━━━━━━━━━━━━━━━━━━━━━━━━━\u001b[0m \u001b[32m47.6/47.6 MB\u001b[0m \u001b[31m17.2 MB/s\u001b[0m eta \u001b[36m0:00:00\u001b[0m\n",
            "\u001b[?25hRequirement already satisfied: scikit-image in /usr/local/lib/python3.8/dist-packages (from easyocr) (0.18.3)\n",
            "Requirement already satisfied: PyYAML in /usr/local/lib/python3.8/dist-packages (from easyocr) (6.0)\n",
            "Requirement already satisfied: numpy in /usr/local/lib/python3.8/dist-packages (from easyocr) (1.21.6)\n",
            "Requirement already satisfied: torchvision>=0.5 in /usr/local/lib/python3.8/dist-packages (from easyocr) (0.14.1+cu116)\n",
            "Requirement already satisfied: Shapely in /usr/local/lib/python3.8/dist-packages (from easyocr) (2.0.1)\n",
            "Requirement already satisfied: Pillow in /usr/local/lib/python3.8/dist-packages (from easyocr) (7.1.2)\n",
            "Requirement already satisfied: requests in /usr/local/lib/python3.8/dist-packages (from torchvision>=0.5->easyocr) (2.25.1)\n",
            "Requirement already satisfied: typing-extensions in /usr/local/lib/python3.8/dist-packages (from torchvision>=0.5->easyocr) (4.4.0)\n",
            "Requirement already satisfied: six in /usr/local/lib/python3.8/dist-packages (from python-bidi->easyocr) (1.15.0)\n",
            "Requirement already satisfied: imageio>=2.3.0 in /usr/local/lib/python3.8/dist-packages (from scikit-image->easyocr) (2.9.0)\n",
            "Requirement already satisfied: tifffile>=2019.7.26 in /usr/local/lib/python3.8/dist-packages (from scikit-image->easyocr) (2023.1.23.1)\n",
            "Requirement already satisfied: networkx>=2.0 in /usr/local/lib/python3.8/dist-packages (from scikit-image->easyocr) (3.0)\n",
            "Requirement already satisfied: PyWavelets>=1.1.1 in /usr/local/lib/python3.8/dist-packages (from scikit-image->easyocr) (1.4.1)\n",
            "Requirement already satisfied: matplotlib!=3.0.0,>=2.0.0 in /usr/local/lib/python3.8/dist-packages (from scikit-image->easyocr) (3.2.2)\n",
            "Requirement already satisfied: python-dateutil>=2.1 in /usr/local/lib/python3.8/dist-packages (from matplotlib!=3.0.0,>=2.0.0->scikit-image->easyocr) (2.8.2)\n",
            "Requirement already satisfied: kiwisolver>=1.0.1 in /usr/local/lib/python3.8/dist-packages (from matplotlib!=3.0.0,>=2.0.0->scikit-image->easyocr) (1.4.4)\n",
            "Requirement already satisfied: cycler>=0.10 in /usr/local/lib/python3.8/dist-packages (from matplotlib!=3.0.0,>=2.0.0->scikit-image->easyocr) (0.11.0)\n",
            "Requirement already satisfied: pyparsing!=2.0.4,!=2.1.2,!=2.1.6,>=2.0.1 in /usr/local/lib/python3.8/dist-packages (from matplotlib!=3.0.0,>=2.0.0->scikit-image->easyocr) (3.0.9)\n",
            "Requirement already satisfied: idna<3,>=2.5 in /usr/local/lib/python3.8/dist-packages (from requests->torchvision>=0.5->easyocr) (2.10)\n",
            "Requirement already satisfied: chardet<5,>=3.0.2 in /usr/local/lib/python3.8/dist-packages (from requests->torchvision>=0.5->easyocr) (4.0.0)\n",
            "Requirement already satisfied: urllib3<1.27,>=1.21.1 in /usr/local/lib/python3.8/dist-packages (from requests->torchvision>=0.5->easyocr) (1.24.3)\n",
            "Requirement already satisfied: certifi>=2017.4.17 in /usr/local/lib/python3.8/dist-packages (from requests->torchvision>=0.5->easyocr) (2022.12.7)\n",
            "Installing collected packages: pyclipper, ninja, python-bidi, opencv-python-headless, easyocr\n",
            "  Attempting uninstall: opencv-python-headless\n",
            "    Found existing installation: opencv-python-headless 4.7.0.68\n",
            "    Uninstalling opencv-python-headless-4.7.0.68:\n",
            "      Successfully uninstalled opencv-python-headless-4.7.0.68\n",
            "Successfully installed easyocr-1.6.2 ninja-1.11.1 opencv-python-headless-4.5.4.60 pyclipper-1.3.0.post4 python-bidi-0.4.2\n"
          ]
        }
      ],
      "source": [
        " pip install easyocr"
      ]
    },
    {
      "cell_type": "code",
      "execution_count": null,
      "metadata": {
        "id": "kQMjLWfMdNQY"
      },
      "outputs": [],
      "source": [
        "import numpy as np \n",
        "from sklearn.cluster import DBSCAN\n",
        "import matplotlib.pyplot as plt\n",
        "from scipy.cluster.vq import kmeans\n",
        "import easyocr\n",
        "import ast\n",
        "import pandas as pd\n",
        "import argparse\n",
        "import time\n",
        "from pathlib import Path\n",
        "import torch\n",
        "import torch.backends.cudnn as cudnn\n",
        "from numpy import random\n",
        "import sys\n",
        "sys.path.append('/content/gdrive/MyDrive/MidPrepCloudPhysician/yolov7/models')  \n",
        "import models\n",
        "import cv2\n",
        "from models.experimental import attempt_load\n",
        "from utils.datasets import LoadStreams, LoadImages\n",
        "from utils.general import check_img_size, check_requirements, check_imshow, non_max_suppression, apply_classifier, \\\n",
        "    scale_coords, xyxy2xywh, strip_optimizer, set_logging, increment_path\n",
        "from utils.plots import plot_one_box\n",
        "from utils.torch_utils import select_device, load_classifier, time_synchronized, TracedModel\n",
        "import copy \n",
        "import time"
      ]
    },
    {
      "cell_type": "code",
      "execution_count": null,
      "metadata": {
        "id": "sassKUjcdTs1"
      },
      "outputs": [],
      "source": [
        "from google.colab.patches import cv2_imshow\n",
        "from PIL import Image"
      ]
    },
    {
      "cell_type": "code",
      "execution_count": null,
      "metadata": {
        "id": "drt3M3CGdgul"
      },
      "outputs": [],
      "source": [
        "\n",
        "classes_to_filter = [] \n",
        "\n",
        "# Monitor extraction model parameters\n",
        "opt_monitor  = {\n",
        "    \n",
        "    \"weights\": \"/content/gdrive/MyDrive/MidPrepCloudPhysician/yolov7/monitor_weights.pt\", \n",
        "    \"yaml\"   : \"data/custom_data.yaml\",\n",
        "    \"img-size\": 640, \n",
        "    \"conf-thres\": 0.25, \n",
        "    \"iou-thres\" : 0.45, \n",
        "    \"device\" : 'cpu',  \n",
        "    \"classes\" : classes_to_filter  \n",
        "\n",
        "}\n",
        "# Feature extraction model parameters \n",
        "opt_features  = {\n",
        "    \n",
        "    \"weights\": \"/content/gdrive/MyDrive/MidPrepCloudPhysician/yolov7/Feature_weights.pt\", \n",
        "    \"yaml\"   : \"data/custom_data.yaml\",\n",
        "    \"img-size\": 640, \n",
        "    \"conf-thres\": 0.25, \n",
        "    \"iou-thres\" : 0.45, \n",
        "    \"device\" : 'cpu',  \n",
        "    \"classes\" : classes_to_filter  \n",
        "\n",
        "}\n",
        "\n",
        "# Class labels for feature extraction model\n",
        "feature_classes = {\n",
        "    0:\"HR\",\n",
        "    1:\"SBP\",\n",
        "    2:\"DBP\",\n",
        "    3:\"MAP\",\n",
        "    4:\"SPO2\",\n",
        "    5:\"RR\",\n",
        "    6:\"HR_W\",\n",
        "    7:\"RR_W\", \n",
        "    8:\"SPO2_W\"\n",
        "\n",
        "}"
      ]
    },
    {
      "cell_type": "code",
      "execution_count": null,
      "metadata": {
        "id": "BGds2DiEdivo"
      },
      "outputs": [],
      "source": [
        "def letterbox(img, new_shape=(640, 640), color=(114, 114, 114), auto=True, scaleFill=False, scaleup=True, stride=32):\n",
        "    '''\n",
        "    Function responsible for image preprocessing.\n",
        "    Args: \n",
        "      img: image file  \n",
        "    Returns:\n",
        "      img: Processed image\n",
        "      ratio: Image Scale ratio \n",
        "      (dw,dh)\n",
        "    '''\n",
        "\n",
        "    # Resize and pad image while meeting stride-multiple constraints\n",
        "    shape = img.shape[:2]  # current shape [height, width]\n",
        "    if isinstance(new_shape, int):\n",
        "        new_shape = (new_shape, new_shape)\n",
        "\n",
        "    # Scale ratio (new / old)\n",
        "    r = min(new_shape[0] / shape[0], new_shape[1] / shape[1])\n",
        "    if not scaleup:  # only scale down, do not scale up (for better test mAP)\n",
        "        r = min(r, 1.0)\n",
        "\n",
        "    # Compute padding\n",
        "    ratio = r, r  # width, height ratios\n",
        "    new_unpad = int(round(shape[1] * r)), int(round(shape[0] * r))\n",
        "    dw, dh = new_shape[1] - new_unpad[0], new_shape[0] - new_unpad[1]  # wh padding\n",
        "    if auto:  # minimum rectangle\n",
        "        dw, dh = np.mod(dw, stride), np.mod(dh, stride)  # wh padding\n",
        "    elif scaleFill:  # stretch\n",
        "        dw, dh = 0.0, 0.0\n",
        "        new_unpad = (new_shape[1], new_shape[0])\n",
        "        ratio = new_shape[1] / shape[1], new_shape[0] / shape[0]  # width, height ratios\n",
        "\n",
        "    dw /= 2  # divide padding into 2 sides\n",
        "    dh /= 2\n",
        "\n",
        "    if shape[::-1] != new_unpad:  # resize\n",
        "        img = cv2.resize(img, new_unpad, interpolation=cv2.INTER_LINEAR)\n",
        "    top, bottom = int(round(dh - 0.1)), int(round(dh + 0.1))\n",
        "    left, right = int(round(dw - 0.1)), int(round(dw + 0.1))\n",
        "    img = cv2.copyMakeBorder(img, top, bottom, left, right, cv2.BORDER_CONSTANT, value=color)  # add border\n",
        "    return img, ratio, (dw, dh)"
      ]
    },
    {
      "cell_type": "code",
      "execution_count": null,
      "metadata": {
        "id": "OEJyi7YHdnUt"
      },
      "outputs": [],
      "source": [
        "# Function for loading models\n",
        "def Load_model(opt):\n",
        "  '''\n",
        "    Function responsible for loading models.\n",
        "    Args: \n",
        "      opt: Model parameters, dict\n",
        "    Returns:\n",
        "      model: Loaded model\n",
        "  '''\n",
        "\n",
        "  with torch.no_grad():\n",
        "    weights, imgsz = opt['weights'], opt['img-size']\n",
        "    set_logging()\n",
        "    device = select_device(opt['device'])\n",
        "    half = device.type != 'cpu'\n",
        "    model = attempt_load(weights, map_location=device)  \n",
        "  \n",
        "    if half:\n",
        "      model.half()\n",
        "  return model"
      ]
    },
    {
      "cell_type": "code",
      "execution_count": null,
      "metadata": {
        "colab": {
          "base_uri": "https://localhost:8080/"
        },
        "id": "A7z5kSyQAKlP",
        "outputId": "33f23702-b091-4605-e168-4a60bee38e66"
      },
      "outputs": [
        {
          "output_type": "stream",
          "name": "stdout",
          "text": [
            "Fusing layers... \n",
            "RepConv.fuse_repvgg_block\n",
            "RepConv.fuse_repvgg_block\n",
            "RepConv.fuse_repvgg_block\n",
            "IDetect.fuse\n"
          ]
        }
      ],
      "source": [
        "# loading the monitor screen extraction model\n",
        "monitor_model = Load_model(opt_monitor)"
      ]
    },
    {
      "cell_type": "code",
      "execution_count": null,
      "metadata": {
        "colab": {
          "base_uri": "https://localhost:8080/"
        },
        "id": "U96mDJ7veSgX",
        "outputId": "5112b79a-aa36-4ce0-d3a7-bd096ec4033f"
      },
      "outputs": [
        {
          "output_type": "stream",
          "name": "stdout",
          "text": [
            "Fusing layers... \n",
            "RepConv.fuse_repvgg_block\n",
            "RepConv.fuse_repvgg_block\n",
            "RepConv.fuse_repvgg_block\n",
            "IDetect.fuse\n"
          ]
        }
      ],
      "source": [
        "# loading the feature extraction(from monitor screen) model \n",
        "feature_model = Load_model(opt_features)"
      ]
    },
    {
      "cell_type": "code",
      "execution_count": null,
      "metadata": {
        "id": "DMos-f6HeXyE"
      },
      "outputs": [],
      "source": [
        "def get_predictions(image, model, opt):\n",
        "  '''\n",
        "  Function responsible for making predictions from model.\n",
        "  Args:  \n",
        "    image: image file\n",
        "    model: Loaded model\n",
        "    opt: Model Parameters, dict\n",
        "  Returns:\n",
        "    img0: Labelled image with predicted bounding boxes, image file\n",
        "    pred: Model predictions, Tensor\n",
        "  '''\n",
        "  img0 = copy.copy(image)\n",
        "  imgsz = opt['img-size']\n",
        "  stride = int(model.stride.max())\n",
        "  device = select_device(opt['device'])\n",
        "  half = device.type != 'cpu'\n",
        "  names = model.module.names if hasattr(model, 'module') else model.names\n",
        "  colors = [[random.randint(0, 255) for _ in range(3)] for _ in names]\n",
        "  img = letterbox(img0, imgsz, stride=stride)[0]\n",
        "  img = img[:, :, ::-1].transpose(2, 0, 1)  \n",
        "  img = np.ascontiguousarray(img)\n",
        "  img = torch.from_numpy(img).to(device)\n",
        "  img = img.half() if half else img.float()  \n",
        "  img /= 255.0  # 0 - 255 to 0.0 - 1.0\n",
        "  if img.ndimension() == 3:\n",
        "    img = img.unsqueeze(0)\n",
        "  t1 = time_synchronized()\n",
        "  pred = model(img, augment= False)[0]\n",
        "\n",
        "  classes = None\n",
        "  if opt['classes']:\n",
        "    classes = []\n",
        "    for class_name in opt['classes']:\n",
        "\n",
        "      classes.append(names.index(class_name))\n",
        "\n",
        "  if classes:\n",
        "    \n",
        "    classes = [i for i in range(len(names)) if i not in classes]\n",
        "  \n",
        "  pred = non_max_suppression(pred, opt['conf-thres'], opt['iou-thres'], classes= None, agnostic= False)\n",
        "  t2 = time_synchronized()\n",
        "  for i, det in enumerate(pred):\n",
        "    s = ''\n",
        "    s += '%gx%g ' % img.shape[2:]  \n",
        "    gn = torch.tensor(img0.shape)[[1, 0, 1, 0]]\n",
        "    if len(det):\n",
        "      det[:, :4] = scale_coords(img.shape[2:], det[:, :4], img0.shape).round()\n",
        "\n",
        "      for c in det[:, -1].unique():\n",
        "        n = (det[:, -1] == c).sum()  \n",
        "        s += f\"{n} {names[int(c)]}{'s' * (n > 1)}, \"  \n",
        "    \n",
        "      for *xyxy, conf, cls in reversed(det):\n",
        "\n",
        "        label = f'{names[int(cls)]} {conf:.2f}'\n",
        "        plot_one_box(xyxy, img0, label=label, color=colors[int(cls)], line_thickness=1)\n",
        "\n",
        "  return img0, pred"
      ]
    },
    {
      "cell_type": "code",
      "execution_count": null,
      "metadata": {
        "id": "rTHfS691g2jv"
      },
      "outputs": [],
      "source": [
        "def get_cropped_feature_image(image, model = monitor_model, model1 = feature_model, opt = opt_monitor, opt1 = opt_features):\n",
        "  '''\n",
        "  Function responsible for getting monitor screen, feature predicted image and its predictions.\n",
        "  Args:  \n",
        "    image: image file\n",
        "    model: Monitor extraction model\n",
        "    model1 = feature extraction model  \n",
        "    opt: Monitor extraction model Parameters, dict\n",
        "    opt1: feature extraction model Parameters, dict\n",
        "  Returns:\n",
        "    cropped: Cropped image(monitor image), image file\n",
        "    img1: feature predicted monitor image\n",
        "    pred1: feature predictions, Tensor\n",
        "  ''' \n",
        "  img0, pred = get_predictions(image, model, opt)\n",
        "  pred_np = pred[0][:, :6].cpu().detach().numpy()\n",
        "  x, y, w, h = int(pred_np[0][0]), int(pred_np[0][1]), int(pred_np[0][2]), int(pred_np[0][3])\n",
        "  cropped = img0[y:h,x:w]\n",
        "  img1, pred1 = get_predictions(cropped, model1, opt1)\n",
        "  \n",
        "  return cropped, img1, pred1\n",
        "  "
      ]
    },
    {
      "cell_type": "code",
      "execution_count": null,
      "metadata": {
        "id": "knl3O_x9DI0U"
      },
      "outputs": [],
      "source": [
        "def features_dataframe(pred):\n",
        "  '''\n",
        "  Function responsible for converting feature prediction tensor to dataframe.\n",
        "  Args:  \n",
        "    pred: Feature prediction tensor \n",
        "  Returns:\n",
        "    df: Pandas dataframe containing bounding box coordinates of predicted features in monitor screen\n",
        "    confidence_scrore: Stores highest confidence score of each predicted class, dict \n",
        "  '''\n",
        "  pred_np = pred[0][:, :6].cpu().detach().numpy() # Numpy array of all predictions\n",
        "  columns = ['image_name', 'HR', 'SBP', 'DBP', 'MAP', 'SPO2', 'RR', 'HR_W', 'RR_W', 'SPO2_W']\n",
        "  df = pd.DataFrame(columns=columns)\n",
        "  df = df.append({'image_name': 'test_image'}, ignore_index=True) \n",
        "\n",
        "  no_rows = pred_np.shape[0]\n",
        "\n",
        "  labels=[]\n",
        "  coords=[]\n",
        "  confidence_score = {}\n",
        "  for i in range(0,no_rows):\n",
        "    pred_arr = pred_np[i]\n",
        "    label = pred_arr[5]\n",
        "    conf = pred_arr[4]\n",
        "    if conf > confidence_score.get(label,0):\n",
        "      confidence_score[label] = conf\n",
        "      coordinates = pred_arr[0:4]\n",
        "      coord = []\n",
        "      for j in coordinates:\n",
        "        coord.append(j)\n",
        "      df.loc[0,feature_classes[label]] = f'{coord}'\n",
        "  \n",
        "  return df, confidence_score\n"
      ]
    },
    {
      "cell_type": "code",
      "source": [
        "# Loading easyocr model\n",
        "reader = easyocr.Reader(['en'])"
      ],
      "metadata": {
        "colab": {
          "base_uri": "https://localhost:8080/"
        },
        "id": "dJ4mzllCb9kV",
        "outputId": "64c53dd7-8b86-42f7-cb80-6a4cea8fb152"
      },
      "execution_count": null,
      "outputs": [
        {
          "output_type": "stream",
          "name": "stderr",
          "text": [
            "WARNING:easyocr.easyocr:CUDA not available - defaulting to CPU. Note: This module is much faster with a GPU.\n",
            "WARNING:easyocr.easyocr:Downloading detection model, please wait. This may take several minutes depending upon your network connection.\n"
          ]
        },
        {
          "output_type": "stream",
          "name": "stdout",
          "text": [
            "Progress: |██████████████████████████████████████████████████| 100.0% Complete"
          ]
        },
        {
          "output_type": "stream",
          "name": "stderr",
          "text": [
            "WARNING:easyocr.easyocr:Downloading recognition model, please wait. This may take several minutes depending upon your network connection.\n"
          ]
        },
        {
          "output_type": "stream",
          "name": "stdout",
          "text": [
            "Progress: |██████████████████████████████████████████████████| 100.0% Complete"
          ]
        }
      ]
    },
    {
      "cell_type": "code",
      "source": [
        "def pipeline(img, df):\n",
        "    '''\n",
        "    Function responsible for detecting numbers from the predicted feature image.\n",
        "    Args:  \n",
        "      img: Monitor screen image\n",
        "      df: Pandas dataframe containing bounding box coordinates of predicted features in monitor screen\n",
        "    Returns:\n",
        "      output: Output dictionary containing feature numbers for each class, eg: {'HR': '102', 'SPO2': '96', 'RR': '18'}\n",
        "      \n",
        "    '''\n",
        "  \n",
        "    output = {}\n",
        "    lst = ['HR', 'SBP', 'DBP', 'MAP', 'SPO2', 'RR']\n",
        "    \n",
        "    for j in range(6):\n",
        "      if pd.isna(df.iat[0, j+1]) == False:\n",
        "          x1,y1,x2,y2 = ast.literal_eval(df.iat[0, j+1])\n",
        "          cropped_img = img[int(y1):int(y2), int(x1):int(x2)]\n",
        "          result = reader.readtext(cropped_img)\n",
        "          if len(result) != 0:\n",
        "            cleaned_string = \"\"\n",
        "            for char in result[0][1]:\n",
        "              try:\n",
        "                int(char)\n",
        "                cleaned_string += char\n",
        "              except ValueError:\n",
        "                pass\n",
        "            print(f\"{lst[j]} identified\")\n",
        "            if (j == 1):\n",
        "              if len(cleaned_string)== 4:\n",
        "                output[lst[j]] = cleaned_string[:3]\n",
        "              else:\n",
        "                output[lst[j]] = cleaned_string\n",
        "            else:\n",
        "                output[lst[j]] = cleaned_string\n",
        "\n",
        "    return output"
      ],
      "metadata": {
        "id": "ojwe9BwpcA80"
      },
      "execution_count": null,
      "outputs": []
    },
    {
      "cell_type": "code",
      "execution_count": null,
      "metadata": {
        "id": "0LCibUePdW1u"
      },
      "outputs": [],
      "source": [
        "# Main inference Function. Only provide input image path to this function \n",
        "def inference(image_path, mon_model = monitor_model, fea_model = feature_model,opt = opt_monitor, opt1 = opt_features): \n",
        "  '''\n",
        "  Function responsible for inference.\n",
        "  Args:  \n",
        "    image_path: Path of the test image\n",
        "    \"Rest all inputs are default parameters. Don't change them\"\n",
        "  Returns:\n",
        "    output_df: Output dictionary containing feature numbers for each class, eg: {'HR': '102', 'SPO2': '96', 'RR': '18'}\n",
        "  '''\n",
        "  image = cv2.imread(image_path)\n",
        "  monitor_image, img1, pred1 = get_cropped_feature_image(image, model = mon_model, model1 = fea_model, opt = opt_monitor, opt1 = opt_features)\n",
        "  df, confi = features_dataframe(pred1)\n",
        "  output_df = pipeline(monitor_image, df)\n",
        "  return output_df"
      ]
    },
    {
      "cell_type": "code",
      "source": [
        "# Running inference on test image \n",
        "output = inference('/content/gdrive/MyDrive/adityawarangal_icu_mon--02_2023_1_2_8_15_26.jpeg') # Just enter the path of the test image \n",
        "output"
      ],
      "metadata": {
        "colab": {
          "base_uri": "https://localhost:8080/"
        },
        "id": "eIuVCP9ff3Rn",
        "outputId": "88f8d3ca-67da-44e9-93a8-d32bcea9db89"
      },
      "execution_count": null,
      "outputs": [
        {
          "output_type": "stream",
          "name": "stderr",
          "text": [
            "/usr/local/lib/python3.8/dist-packages/torch/functional.py:504: UserWarning: torch.meshgrid: in an upcoming release, it will be required to pass the indexing argument. (Triggered internally at ../aten/src/ATen/native/TensorShape.cpp:3190.)\n",
            "  return _VF.meshgrid(tensors, **kwargs)  # type: ignore[attr-defined]\n"
          ]
        },
        {
          "output_type": "stream",
          "name": "stdout",
          "text": [
            "HR identified\n",
            "SBP identified\n"
          ]
        },
        {
          "output_type": "execute_result",
          "data": {
            "text/plain": [
              "{'HR': '111', 'SBP': '100'}"
            ]
          },
          "metadata": {},
          "execution_count": 19
        }
      ]
    },
    {
      "cell_type": "markdown",
      "source": [
        "##Graph digitization \n"
      ],
      "metadata": {
        "id": "jwkarUOzfRpP"
      }
    },
    {
      "cell_type": "code",
      "source": [
        "# Loading and processing data for graph digitization\n",
        "image_path = \"Image Path\" # Enter the same test image path as mentioned above in inference function\n",
        "image = cv2.imread(image_path)\n",
        "\n",
        "img0, pred = get_predictions(image, monitor_model, opt_monitor)\n",
        "pred_np = pred[0][:, :6].cpu().detach().numpy()\n",
        "x, y, w, h = int(pred_np[0][0]), int(pred_np[0][1]), int(pred_np[0][2]), int(pred_np[0][3])\n",
        "cropped_image = img0[y:h,x:w]\n",
        "#cv2_imshow(cropped_image)\n",
        "img1, pred1 = get_predictions(cropped_image, feature_model, opt_features)\n",
        "df, confi = features_dataframe(pred1)\n",
        "df"
      ],
      "metadata": {
        "colab": {
          "base_uri": "https://localhost:8080/",
          "height": 81
        },
        "id": "qmC09LsOgOFH",
        "outputId": "f1ed78af-14a2-411d-9cd8-1f13521ba600"
      },
      "execution_count": null,
      "outputs": [
        {
          "output_type": "execute_result",
          "data": {
            "text/plain": [
              "   image_name                          HR                          SBP  DBP  \\\n",
              "0  test_image  [334.0, 50.0, 382.0, 85.0]  [327.0, 88.0, 380.0, 122.0]  NaN   \n",
              "\n",
              "                           MAP SPO2   RR                       HR_W RR_W  \\\n",
              "0  [76.0, 268.0, 138.0, 289.0]  NaN  NaN  [13.0, 44.0, 367.0, 74.0]  NaN   \n",
              "\n",
              "                       SPO2_W  \n",
              "0  [0.0, 222.0, 336.0, 268.0]  "
            ],
            "text/html": [
              "\n",
              "  <div id=\"df-2714183d-ca16-4fca-ab99-f8894adb5a0d\">\n",
              "    <div class=\"colab-df-container\">\n",
              "      <div>\n",
              "<style scoped>\n",
              "    .dataframe tbody tr th:only-of-type {\n",
              "        vertical-align: middle;\n",
              "    }\n",
              "\n",
              "    .dataframe tbody tr th {\n",
              "        vertical-align: top;\n",
              "    }\n",
              "\n",
              "    .dataframe thead th {\n",
              "        text-align: right;\n",
              "    }\n",
              "</style>\n",
              "<table border=\"1\" class=\"dataframe\">\n",
              "  <thead>\n",
              "    <tr style=\"text-align: right;\">\n",
              "      <th></th>\n",
              "      <th>image_name</th>\n",
              "      <th>HR</th>\n",
              "      <th>SBP</th>\n",
              "      <th>DBP</th>\n",
              "      <th>MAP</th>\n",
              "      <th>SPO2</th>\n",
              "      <th>RR</th>\n",
              "      <th>HR_W</th>\n",
              "      <th>RR_W</th>\n",
              "      <th>SPO2_W</th>\n",
              "    </tr>\n",
              "  </thead>\n",
              "  <tbody>\n",
              "    <tr>\n",
              "      <th>0</th>\n",
              "      <td>test_image</td>\n",
              "      <td>[334.0, 50.0, 382.0, 85.0]</td>\n",
              "      <td>[327.0, 88.0, 380.0, 122.0]</td>\n",
              "      <td>NaN</td>\n",
              "      <td>[76.0, 268.0, 138.0, 289.0]</td>\n",
              "      <td>NaN</td>\n",
              "      <td>NaN</td>\n",
              "      <td>[13.0, 44.0, 367.0, 74.0]</td>\n",
              "      <td>NaN</td>\n",
              "      <td>[0.0, 222.0, 336.0, 268.0]</td>\n",
              "    </tr>\n",
              "  </tbody>\n",
              "</table>\n",
              "</div>\n",
              "      <button class=\"colab-df-convert\" onclick=\"convertToInteractive('df-2714183d-ca16-4fca-ab99-f8894adb5a0d')\"\n",
              "              title=\"Convert this dataframe to an interactive table.\"\n",
              "              style=\"display:none;\">\n",
              "        \n",
              "  <svg xmlns=\"http://www.w3.org/2000/svg\" height=\"24px\"viewBox=\"0 0 24 24\"\n",
              "       width=\"24px\">\n",
              "    <path d=\"M0 0h24v24H0V0z\" fill=\"none\"/>\n",
              "    <path d=\"M18.56 5.44l.94 2.06.94-2.06 2.06-.94-2.06-.94-.94-2.06-.94 2.06-2.06.94zm-11 1L8.5 8.5l.94-2.06 2.06-.94-2.06-.94L8.5 2.5l-.94 2.06-2.06.94zm10 10l.94 2.06.94-2.06 2.06-.94-2.06-.94-.94-2.06-.94 2.06-2.06.94z\"/><path d=\"M17.41 7.96l-1.37-1.37c-.4-.4-.92-.59-1.43-.59-.52 0-1.04.2-1.43.59L10.3 9.45l-7.72 7.72c-.78.78-.78 2.05 0 2.83L4 21.41c.39.39.9.59 1.41.59.51 0 1.02-.2 1.41-.59l7.78-7.78 2.81-2.81c.8-.78.8-2.07 0-2.86zM5.41 20L4 18.59l7.72-7.72 1.47 1.35L5.41 20z\"/>\n",
              "  </svg>\n",
              "      </button>\n",
              "      \n",
              "  <style>\n",
              "    .colab-df-container {\n",
              "      display:flex;\n",
              "      flex-wrap:wrap;\n",
              "      gap: 12px;\n",
              "    }\n",
              "\n",
              "    .colab-df-convert {\n",
              "      background-color: #E8F0FE;\n",
              "      border: none;\n",
              "      border-radius: 50%;\n",
              "      cursor: pointer;\n",
              "      display: none;\n",
              "      fill: #1967D2;\n",
              "      height: 32px;\n",
              "      padding: 0 0 0 0;\n",
              "      width: 32px;\n",
              "    }\n",
              "\n",
              "    .colab-df-convert:hover {\n",
              "      background-color: #E2EBFA;\n",
              "      box-shadow: 0px 1px 2px rgba(60, 64, 67, 0.3), 0px 1px 3px 1px rgba(60, 64, 67, 0.15);\n",
              "      fill: #174EA6;\n",
              "    }\n",
              "\n",
              "    [theme=dark] .colab-df-convert {\n",
              "      background-color: #3B4455;\n",
              "      fill: #D2E3FC;\n",
              "    }\n",
              "\n",
              "    [theme=dark] .colab-df-convert:hover {\n",
              "      background-color: #434B5C;\n",
              "      box-shadow: 0px 1px 3px 1px rgba(0, 0, 0, 0.15);\n",
              "      filter: drop-shadow(0px 1px 2px rgba(0, 0, 0, 0.3));\n",
              "      fill: #FFFFFF;\n",
              "    }\n",
              "  </style>\n",
              "\n",
              "      <script>\n",
              "        const buttonEl =\n",
              "          document.querySelector('#df-2714183d-ca16-4fca-ab99-f8894adb5a0d button.colab-df-convert');\n",
              "        buttonEl.style.display =\n",
              "          google.colab.kernel.accessAllowed ? 'block' : 'none';\n",
              "\n",
              "        async function convertToInteractive(key) {\n",
              "          const element = document.querySelector('#df-2714183d-ca16-4fca-ab99-f8894adb5a0d');\n",
              "          const dataTable =\n",
              "            await google.colab.kernel.invokeFunction('convertToInteractive',\n",
              "                                                     [key], {});\n",
              "          if (!dataTable) return;\n",
              "\n",
              "          const docLinkHtml = 'Like what you see? Visit the ' +\n",
              "            '<a target=\"_blank\" href=https://colab.research.google.com/notebooks/data_table.ipynb>data table notebook</a>'\n",
              "            + ' to learn more about interactive tables.';\n",
              "          element.innerHTML = '';\n",
              "          dataTable['output_type'] = 'display_data';\n",
              "          await google.colab.output.renderOutput(dataTable, element);\n",
              "          const docLink = document.createElement('div');\n",
              "          docLink.innerHTML = docLinkHtml;\n",
              "          element.appendChild(docLink);\n",
              "        }\n",
              "      </script>\n",
              "    </div>\n",
              "  </div>\n",
              "  "
            ]
          },
          "metadata": {},
          "execution_count": 24
        }
      ]
    },
    {
      "cell_type": "code",
      "source": [
        "def return_df_image(image_path,monitor_model = monitor_model,\n",
        "                    feature_model = feature_model, \n",
        "                    opt_monitor = opt_monitor, \n",
        "                    opt_features = opt_features):\n",
        "    \n",
        "    image = cv2.imread(image_path)\n",
        "    img0, pred = get_predictions(image, monitor_model, opt_monitor)\n",
        "    pred_np = pred[0][:, :6].cpu().detach().numpy()\n",
        "    x, y, w, h = int(pred_np[0][0]), int(pred_np[0][1]), int(pred_np[0][2]), int(pred_np[0][3])\n",
        "    img = img0[y:h,x:w]\n",
        "    #cv2_imshow(cropped_image)\n",
        "    img1, pred1 = get_predictions(img, feature_model, opt_features)\n",
        "    df, confi = features_dataframe(pred1)\n",
        "    fig = graph_digitise(img,df)\n",
        "    return fig \n"
      ],
      "metadata": {
        "id": "jHQkhk1ndHtp"
      },
      "execution_count": null,
      "outputs": []
    },
    {
      "cell_type": "code",
      "source": [
        "def graph_digitise(img,df):\n",
        "    '''\n",
        "    Function responsible for graph digitization.\n",
        "    Args:  \n",
        "      img: Monitor screen image\n",
        "      df: Pandas dataframe containing bounding box coordinates of predicted features in monitor screen\n",
        "    Returns:\n",
        "      fig: Digitized graph\n",
        "    '''\n",
        "    for j in range(6,7):\n",
        "      if pd.isna(df.iat[0, j+1]) == False:\n",
        "          x1,y1,x2,y2 = ast.literal_eval(df.iat[0, j+1])\n",
        "          cropped_img = img[int(y1):int(y2), int(x1):int(x2)]\n",
        "          pixels = np.array(cropped_img)\n",
        "          \n",
        "          ## Thresholding\n",
        "          pixels_2d = pixels.reshape(-1, pixels.shape[-1]).astype(np.float32)\n",
        "          black_threshold = 10\n",
        "          black_pixels = pixels_2d[np.all(pixels_2d <= black_threshold, axis=1)]\n",
        "          non_black_pixels = pixels_2d[np.any(pixels_2d > black_threshold, axis=1)]\n",
        "          num_colors = 1\n",
        "          centroids, _ = kmeans(non_black_pixels, num_colors)\n",
        "          \n",
        "          ## Creating mask and filling values \n",
        "          value = centroids[0]\n",
        "          range_ = 55\n",
        "          mask = np.logical_or(pixels[..., 0] < value[0]-range_, pixels[..., 0] > value[0]+range_)\n",
        "          mask = np.logical_or(mask, np.logical_or(pixels[..., 1] < value[1]-range_, pixels[..., 1] > value[1]+range_))\n",
        "          mask = np.logical_or(mask, np.logical_or(pixels[..., 2] < value[2]-range_, pixels[..., 2] > value[2]+range_))\n",
        "          extracted_portion = np.where(mask[..., np.newaxis], [0, 255, 0], [0, 0, 0])\n",
        "          \n",
        "          ## Getting co-ordinates\n",
        "          img = cv2.convertScaleAbs(extracted_portion, alpha=(255.0))\n",
        "          _, threshold = cv2.threshold(img, 100, 255, cv2.THRESH_BINARY)\n",
        "\n",
        "          kernel = np.ones((1, 1), np.uint8)\n",
        "          threshold = cv2.morphologyEx(threshold, cv2.MORPH_CLOSE, kernel)\n",
        "\n",
        "          coords = np.column_stack(np.where(extracted_portion > 0))\n",
        "          x = coords[:, 1]\n",
        "          y = coords[:, 0]\n",
        "          df = pd.DataFrame({'x': x, 'y': y})\n",
        "          df = df.drop_duplicates()\n",
        "\n",
        "          ## Using DBscan clustering algo\n",
        "          db = DBSCAN(eps=5, min_samples=5).fit(np.column_stack([x, y]))\n",
        "          core_samples_mask = np.zeros_like(db.labels_, dtype=bool)\n",
        "          core_samples_mask[db.core_sample_indices_] = True\n",
        "          unique_labels = set(db.labels_)\n",
        "          colors = [plt.cm.Spectral(each) for each in np.linspace(0, 1, len(unique_labels))]\n",
        "          plt.figure(figsize=(10,1), dpi=100)\n",
        "          fig, ax = plt.subplots(figsize=(10,1))\n",
        "          for k, col in zip(unique_labels, colors):\n",
        "            class_member_mask = (db.labels_ == k)\n",
        "            xy = np.column_stack([x[class_member_mask & core_samples_mask], y[class_member_mask & core_samples_mask]])\n",
        "            ax.plot(xy[:, 0], extracted_portion.shape[0]-xy[:, 1], '.', markerfacecolor=tuple(col), markersize=2)\n",
        "            plt.show()\n",
        "          return fig\n",
        "      else:\n",
        "        return ('HR not found')"
      ],
      "metadata": {
        "id": "5yswD8h3cJPR"
      },
      "execution_count": null,
      "outputs": []
    },
    {
      "cell_type": "code",
      "source": [
        "#Plotting the digitized graph\n",
        "f = return_df_image('/content/gdrive/MyDrive/adityawarangal_icu_mon--02_2023_1_2_8_15_26.jpeg')\n",
        "f"
      ],
      "metadata": {
        "id": "7-qUvoV5yyqb",
        "colab": {
          "base_uri": "https://localhost:8080/",
          "height": 102
        },
        "outputId": "c6925b60-4bcd-43e2-e98a-344ab495540c"
      },
      "execution_count": null,
      "outputs": [
        {
          "output_type": "execute_result",
          "data": {
            "text/plain": [
              "<Figure size 720x72 with 1 Axes>"
            ],
            "image/png": "[encoded data removed]"
          },
          "metadata": {},
          "execution_count": 22
        }
      ]
    },
    {
      "cell_type": "code",
      "source": [],
      "metadata": {
        "id": "TTxxpA9J_Anj"
      },
      "execution_count": null,
      "outputs": []
    }
  ],
  "metadata": {
    "colab": {
      "provenance": []
    },
    "kernelspec": {
      "display_name": "Python 3",
      "name": "python3"
    },
    "language_info": {
      "name": "python"
    },
    "gpuClass": "standard"
  },
  "nbformat": 4,
  "nbformat_minor": 0
}